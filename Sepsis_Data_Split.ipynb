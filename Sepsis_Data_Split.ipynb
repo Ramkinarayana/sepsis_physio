{
  "nbformat": 4,
  "nbformat_minor": 0,
  "metadata": {
    "colab": {
      "name": "Sepsis_Data_Split.ipynb",
      "provenance": [],
      "collapsed_sections": [],
      "include_colab_link": true
    },
    "kernelspec": {
      "display_name": "Python 3",
      "language": "python",
      "name": "python3"
    },
    "language_info": {
      "codemirror_mode": {
        "name": "ipython",
        "version": 3
      },
      "file_extension": ".py",
      "mimetype": "text/x-python",
      "name": "python",
      "nbconvert_exporter": "python",
      "pygments_lexer": "ipython3",
      "version": "3.8.3"
    }
  },
  "cells": [
    {
      "cell_type": "markdown",
      "metadata": {
        "id": "view-in-github",
        "colab_type": "text"
      },
      "source": [
        "<a href=\"https://colab.research.google.com/github/Ramkinarayana/sepsis_physio/blob/colab_repo1/Sepsis_Data_Split.ipynb\" target=\"_parent\"><img src=\"https://colab.research.google.com/assets/colab-badge.svg\" alt=\"Open In Colab\"/></a>"
      ]
    },
    {
      "cell_type": "markdown",
      "metadata": {
        "id": "iUv0I5GZ_MWm"
      },
      "source": [
        "## **Libraries to be imported**"
      ]
    },
    {
      "cell_type": "code",
      "metadata": {
        "id": "d_Z2HREfCcaw"
      },
      "source": [
        "from os import listdir\n",
        "import pandas as pd\n",
        "import csv"
      ],
      "execution_count": null,
      "outputs": []
    },
    {
      "cell_type": "code",
      "metadata": {
        "id": "2cA67-JDu6o6"
      },
      "source": [
        "sepsis_home_dir = \"C:/Learning/AIMLDL/Sepsis\"\n",
        "orig_data_dir=  sepsis_home_dir + \"/data\"\n",
        "data_ntemp_dir = sepsis_home_dir + \"/data\""
      ],
      "execution_count": null,
      "outputs": []
    },
    {
      "cell_type": "markdown",
      "metadata": {
        "id": "mjjF14EYA9bn"
      },
      "source": [
        "### Format of a psv"
      ]
    },
    {
      "cell_type": "code",
      "metadata": {
        "colab": {
          "base_uri": "https://localhost:8080/",
          "height": 224
        },
        "id": "voUNCQRyEVkm",
        "outputId": "24caaaf6-b616-4a19-a24c-bdd74766fc69"
      },
      "source": [
        "sampl = pd.read_csv(orig_data_dir+'/training/p000001.psv', sep='|')\n",
        "sampl.head()"
      ],
      "execution_count": null,
      "outputs": [
        {
          "output_type": "execute_result",
          "data": {
            "text/html": [
              "<div>\n",
              "<style scoped>\n",
              "    .dataframe tbody tr th:only-of-type {\n",
              "        vertical-align: middle;\n",
              "    }\n",
              "\n",
              "    .dataframe tbody tr th {\n",
              "        vertical-align: top;\n",
              "    }\n",
              "\n",
              "    .dataframe thead th {\n",
              "        text-align: right;\n",
              "    }\n",
              "</style>\n",
              "<table border=\"1\" class=\"dataframe\">\n",
              "  <thead>\n",
              "    <tr style=\"text-align: right;\">\n",
              "      <th></th>\n",
              "      <th>HR</th>\n",
              "      <th>O2Sat</th>\n",
              "      <th>Temp</th>\n",
              "      <th>SBP</th>\n",
              "      <th>MAP</th>\n",
              "      <th>DBP</th>\n",
              "      <th>Resp</th>\n",
              "      <th>EtCO2</th>\n",
              "      <th>BaseExcess</th>\n",
              "      <th>HCO3</th>\n",
              "      <th>...</th>\n",
              "      <th>WBC</th>\n",
              "      <th>Fibrinogen</th>\n",
              "      <th>Platelets</th>\n",
              "      <th>Age</th>\n",
              "      <th>Gender</th>\n",
              "      <th>Unit1</th>\n",
              "      <th>Unit2</th>\n",
              "      <th>HospAdmTime</th>\n",
              "      <th>ICULOS</th>\n",
              "      <th>SepsisLabel</th>\n",
              "    </tr>\n",
              "  </thead>\n",
              "  <tbody>\n",
              "    <tr>\n",
              "      <th>0</th>\n",
              "      <td>NaN</td>\n",
              "      <td>NaN</td>\n",
              "      <td>NaN</td>\n",
              "      <td>NaN</td>\n",
              "      <td>NaN</td>\n",
              "      <td>NaN</td>\n",
              "      <td>NaN</td>\n",
              "      <td>NaN</td>\n",
              "      <td>NaN</td>\n",
              "      <td>NaN</td>\n",
              "      <td>...</td>\n",
              "      <td>NaN</td>\n",
              "      <td>NaN</td>\n",
              "      <td>NaN</td>\n",
              "      <td>83.14</td>\n",
              "      <td>0</td>\n",
              "      <td>NaN</td>\n",
              "      <td>NaN</td>\n",
              "      <td>-0.03</td>\n",
              "      <td>1</td>\n",
              "      <td>0</td>\n",
              "    </tr>\n",
              "    <tr>\n",
              "      <th>1</th>\n",
              "      <td>97.0</td>\n",
              "      <td>95.0</td>\n",
              "      <td>NaN</td>\n",
              "      <td>98.0</td>\n",
              "      <td>75.33</td>\n",
              "      <td>NaN</td>\n",
              "      <td>19.0</td>\n",
              "      <td>NaN</td>\n",
              "      <td>NaN</td>\n",
              "      <td>NaN</td>\n",
              "      <td>...</td>\n",
              "      <td>NaN</td>\n",
              "      <td>NaN</td>\n",
              "      <td>NaN</td>\n",
              "      <td>83.14</td>\n",
              "      <td>0</td>\n",
              "      <td>NaN</td>\n",
              "      <td>NaN</td>\n",
              "      <td>-0.03</td>\n",
              "      <td>2</td>\n",
              "      <td>0</td>\n",
              "    </tr>\n",
              "    <tr>\n",
              "      <th>2</th>\n",
              "      <td>89.0</td>\n",
              "      <td>99.0</td>\n",
              "      <td>NaN</td>\n",
              "      <td>122.0</td>\n",
              "      <td>86.00</td>\n",
              "      <td>NaN</td>\n",
              "      <td>22.0</td>\n",
              "      <td>NaN</td>\n",
              "      <td>NaN</td>\n",
              "      <td>NaN</td>\n",
              "      <td>...</td>\n",
              "      <td>NaN</td>\n",
              "      <td>NaN</td>\n",
              "      <td>NaN</td>\n",
              "      <td>83.14</td>\n",
              "      <td>0</td>\n",
              "      <td>NaN</td>\n",
              "      <td>NaN</td>\n",
              "      <td>-0.03</td>\n",
              "      <td>3</td>\n",
              "      <td>0</td>\n",
              "    </tr>\n",
              "    <tr>\n",
              "      <th>3</th>\n",
              "      <td>90.0</td>\n",
              "      <td>95.0</td>\n",
              "      <td>NaN</td>\n",
              "      <td>NaN</td>\n",
              "      <td>NaN</td>\n",
              "      <td>NaN</td>\n",
              "      <td>30.0</td>\n",
              "      <td>NaN</td>\n",
              "      <td>24.0</td>\n",
              "      <td>NaN</td>\n",
              "      <td>...</td>\n",
              "      <td>NaN</td>\n",
              "      <td>NaN</td>\n",
              "      <td>NaN</td>\n",
              "      <td>83.14</td>\n",
              "      <td>0</td>\n",
              "      <td>NaN</td>\n",
              "      <td>NaN</td>\n",
              "      <td>-0.03</td>\n",
              "      <td>4</td>\n",
              "      <td>0</td>\n",
              "    </tr>\n",
              "    <tr>\n",
              "      <th>4</th>\n",
              "      <td>103.0</td>\n",
              "      <td>88.5</td>\n",
              "      <td>NaN</td>\n",
              "      <td>122.0</td>\n",
              "      <td>91.33</td>\n",
              "      <td>NaN</td>\n",
              "      <td>24.5</td>\n",
              "      <td>NaN</td>\n",
              "      <td>NaN</td>\n",
              "      <td>NaN</td>\n",
              "      <td>...</td>\n",
              "      <td>NaN</td>\n",
              "      <td>NaN</td>\n",
              "      <td>NaN</td>\n",
              "      <td>83.14</td>\n",
              "      <td>0</td>\n",
              "      <td>NaN</td>\n",
              "      <td>NaN</td>\n",
              "      <td>-0.03</td>\n",
              "      <td>5</td>\n",
              "      <td>0</td>\n",
              "    </tr>\n",
              "  </tbody>\n",
              "</table>\n",
              "<p>5 rows × 41 columns</p>\n",
              "</div>"
            ],
            "text/plain": [
              "      HR  O2Sat  Temp    SBP    MAP  DBP  Resp  EtCO2  BaseExcess  HCO3  ...  \\\n",
              "0    NaN    NaN   NaN    NaN    NaN  NaN   NaN    NaN         NaN   NaN  ...   \n",
              "1   97.0   95.0   NaN   98.0  75.33  NaN  19.0    NaN         NaN   NaN  ...   \n",
              "2   89.0   99.0   NaN  122.0  86.00  NaN  22.0    NaN         NaN   NaN  ...   \n",
              "3   90.0   95.0   NaN    NaN    NaN  NaN  30.0    NaN        24.0   NaN  ...   \n",
              "4  103.0   88.5   NaN  122.0  91.33  NaN  24.5    NaN         NaN   NaN  ...   \n",
              "\n",
              "   WBC  Fibrinogen  Platelets    Age  Gender  Unit1  Unit2  HospAdmTime  \\\n",
              "0  NaN         NaN        NaN  83.14       0    NaN    NaN        -0.03   \n",
              "1  NaN         NaN        NaN  83.14       0    NaN    NaN        -0.03   \n",
              "2  NaN         NaN        NaN  83.14       0    NaN    NaN        -0.03   \n",
              "3  NaN         NaN        NaN  83.14       0    NaN    NaN        -0.03   \n",
              "4  NaN         NaN        NaN  83.14       0    NaN    NaN        -0.03   \n",
              "\n",
              "   ICULOS  SepsisLabel  \n",
              "0       1            0  \n",
              "1       2            0  \n",
              "2       3            0  \n",
              "3       4            0  \n",
              "4       5            0  \n",
              "\n",
              "[5 rows x 41 columns]"
            ]
          },
          "metadata": {
            "tags": []
          },
          "execution_count": 16
        }
      ]
    },
    {
      "cell_type": "markdown",
      "metadata": {
        "id": "eH6QLHPpBQXs"
      },
      "source": [
        "## **Merge Data**"
      ]
    },
    {
      "cell_type": "markdown",
      "metadata": {
        "id": "Jna5jCD_Cf7d"
      },
      "source": [
        "### **Train -Validation-Test Split**"
      ]
    },
    {
      "cell_type": "markdown",
      "metadata": {
        "id": "ebvCbVEpCmu7"
      },
      "source": [
        "Split the data. Add Patient data and time for each record\n",
        "\n",
        "Train : 30K Patients\n",
        "Test : 5K Patients\n",
        "Validation : 5K Patients"
      ]
    },
    {
      "cell_type": "code",
      "metadata": {
        "id": "oi6XHGVWPbai"
      },
      "source": [
        "a_traincsv = listdir(orig_data_dir+'/training/')\n",
        "b_traincsv = listdir(orig_data_dir+'/training_setB/')\n",
        "\n",
        "\n",
        "with open(data_temp_dir+'/train_patient.csv', 'w') as csvoutput:\n",
        "  writer = csv.writer(csvoutput, lineterminator='\\n')\n",
        "\n",
        "\n",
        "  for ind, csv_name in enumerate(a_traincsv):\n",
        "    with open(orig_data_dir+'/training/'+ csv_name,'r') as csvinput:\n",
        "\n",
        "    \n",
        "      reader = csv.reader(csvinput, delimiter='|')\n",
        "      all = []\n",
        "      \n",
        "      if ind ==0 :\n",
        "        row = next(reader)\n",
        "        row.append('Patient_id')\n",
        "        row.append('time')\n",
        "        all.append(row)\n",
        "      else:\n",
        "        row = next(reader)\n",
        "\n",
        "      for i,row in enumerate(reader):\n",
        "        row.append(ind)\n",
        "        row.append(i)\n",
        "        \n",
        "        \n",
        "        all.append(row)\n",
        "\n",
        "      writer.writerows(all)\n",
        " \n",
        "\n",
        "  num = ind \n",
        "\n",
        "\n",
        "  for inde, csv_name in enumerate(b_traincsv):\n",
        "    if inde < 10000:\n",
        "      num = num+1\n",
        "      with open(orig_data_dir+'/training_setB/'+ csv_name,'r') as csvinput:\n",
        "\n",
        "\n",
        "        reader = csv.reader(csvinput, delimiter='|')\n",
        "        all = []\n",
        "\n",
        "\n",
        "        row = next(reader)\n",
        "        for i,row in enumerate(reader):\n",
        "          row.append(num)\n",
        "          row.append(i)\n",
        "\n",
        "\n",
        "          all.append(row)\n",
        "\n",
        "        writer.writerows(all)\n"
      ],
      "execution_count": null,
      "outputs": []
    },
    {
      "cell_type": "code",
      "metadata": {
        "colab": {
          "base_uri": "https://localhost:8080/",
          "height": 34
        },
        "id": "4ZiJFCK8R1i5",
        "outputId": "0083581c-db50-4675-d725-3ae0a51e223d"
      },
      "source": [
        "train = pd.read_csv(data_ntemp_dir+'/train_patient.psv', sep ='|')\n",
        "train.shape"
      ],
      "execution_count": null,
      "outputs": [
        {
          "output_type": "execute_result",
          "data": {
            "text/plain": [
              "(1168686, 41)"
            ]
          },
          "metadata": {
            "tags": []
          },
          "execution_count": 19
        }
      ]
    },
    {
      "cell_type": "code",
      "metadata": {
        "id": "Ja81U72VR_Nx"
      },
      "source": [
        "with open(data_temp_dir+'/validation_patient.csv', 'w') as csvoutput:\n",
        "  writer = csv.writer(csvoutput, lineterminator='\\n')\n",
        "\n",
        "  for inde, csv_name in enumerate(b_traincsv):\n",
        "    \n",
        "    if inde >=10000 and inde <15000:\n",
        "      with open(orig_data_dir+'/training_setB/'+ csv_name,'r') as csvinput:\n",
        "\n",
        "\n",
        "        reader = csv.reader(csvinput, delimiter='|')\n",
        "        all = []\n",
        "\n",
        "        \n",
        "        if inde ==10000 :\n",
        "          row = next(reader)\n",
        "          row.append('Patient_id')\n",
        "          row.append('time')\n",
        "          all.append(row)\n",
        "        else:\n",
        "          row = next(reader)\n",
        "\n",
        "        for i,row in enumerate(reader):\n",
        "          row.append(inde)\n",
        "          row.append(i)\n",
        "\n",
        "\n",
        "          all.append(row)\n",
        "\n",
        "        writer.writerows(all)"
      ],
      "execution_count": null,
      "outputs": []
    },
    {
      "cell_type": "code",
      "metadata": {
        "colab": {
          "base_uri": "https://localhost:8080/",
          "height": 34
        },
        "id": "yg6vIz5oThSH",
        "outputId": "fe8b9280-eba4-4fcf-bf50-e7d9173b90a5"
      },
      "source": [
        "validation = pd.read_csv(data_ntemp_dir+'/validation_patient.psv', sep ='|')\n",
        "validation.shape"
      ],
      "execution_count": null,
      "outputs": [
        {
          "output_type": "execute_result",
          "data": {
            "text/plain": [
              "(193026, 41)"
            ]
          },
          "metadata": {
            "tags": []
          },
          "execution_count": 23
        }
      ]
    },
    {
      "cell_type": "code",
      "metadata": {
        "id": "zV7BAV7PTx3y"
      },
      "source": [
        "with open(data_temp_dir+'/test_patient.csv', 'w') as csvoutput:\n",
        "  writer = csv.writer(csvoutput, lineterminator='\\n')\n",
        "\n",
        "  for inde, csv_name in enumerate(b_traincsv):\n",
        "    \n",
        "    if inde >=15000:\n",
        "      with open(orig_data_dir+'/training_setB/'+ csv_name,'r') as csvinput:\n",
        "\n",
        "\n",
        "        reader = csv.reader(csvinput, delimiter='|')\n",
        "        all = []\n",
        "\n",
        "        \n",
        "        if inde ==15000 :\n",
        "          row = next(reader)\n",
        "          row.append('Patient_id')\n",
        "          row.append('time')\n",
        "          all.append(row)\n",
        "        else:\n",
        "          row = next(reader)\n",
        "\n",
        "        for i,row in enumerate(reader):\n",
        "          row.append(inde)\n",
        "          row.append(i)\n",
        "\n",
        "\n",
        "          all.append(row)\n",
        "\n",
        "        writer.writerows(all)"
      ],
      "execution_count": null,
      "outputs": []
    },
    {
      "cell_type": "code",
      "metadata": {
        "colab": {
          "base_uri": "https://localhost:8080/",
          "height": 34
        },
        "id": "Xv8a1Tk7T8cD",
        "outputId": "ae5981ed-1b99-4502-aaf5-bb088d24ec6b"
      },
      "source": [
        "test = pd.read_csv(data_ntemp_dir+'/test_patient.csv', sep ='|')\n",
        "test.shape"
      ],
      "execution_count": null,
      "outputs": [
        {
          "output_type": "execute_result",
          "data": {
            "text/plain": [
              "(190615, 41)"
            ]
          },
          "metadata": {
            "tags": []
          },
          "execution_count": 25
        }
      ]
    }
  ]
}